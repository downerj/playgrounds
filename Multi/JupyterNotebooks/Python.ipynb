{
 "cells": [
  {
   "cell_type": "markdown",
   "id": "0574858a",
   "metadata": {},
   "source": [
    "# Python 3 <img src=\"Icons/python3.svg\" width=\"40\" height=\"40\"/>"
   ]
  },
  {
   "cell_type": "markdown",
   "id": "296948e8",
   "metadata": {},
   "source": [
    "Hello."
   ]
  },
  {
   "cell_type": "code",
   "execution_count": 1,
   "id": "896ae370",
   "metadata": {},
   "outputs": [
    {
     "name": "stdout",
     "output_type": "stream",
     "text": [
      "Hello, there!\n"
     ]
    }
   ],
   "source": [
    "print(\"Hello, there!\")"
   ]
  },
  {
   "cell_type": "markdown",
   "id": "f382b970",
   "metadata": {},
   "source": [
    "Printable ASCII characters."
   ]
  },
  {
   "cell_type": "code",
   "execution_count": 2,
   "id": "ec31bf10",
   "metadata": {},
   "outputs": [
    {
     "name": "stdout",
     "output_type": "stream",
     "text": [
      " !\"#$%&'()*+,-./0123456789:;<=>?@ABCDEFGHIJKLMNOPQRSTUVWXYZ[\\]^_`abcdefghijklmnopqrstuvwxyz{|}\n"
     ]
    }
   ],
   "source": [
    "print(\"\".join([chr(ch) for ch in range(0x20, 0x7e)]))"
   ]
  }
 ],
 "metadata": {
  "kernelspec": {
   "display_name": "Python 3",
   "language": "python",
   "name": "python3"
  },
  "language_info": {
   "codemirror_mode": {
    "name": "ipython",
    "version": 3
   },
   "file_extension": ".py",
   "mimetype": "text/x-python",
   "name": "python",
   "nbconvert_exporter": "python",
   "pygments_lexer": "ipython3",
   "version": "3.12.3"
  }
 },
 "nbformat": 4,
 "nbformat_minor": 5
}
