{
 "cells": [
  {
   "cell_type": "markdown",
   "id": "5bb9cbb3",
   "metadata": {},
   "source": [
    "# TypeScript <img src=\"Icons/ts.svg\" width=\"40\" height=\"40\"/>"
   ]
  },
  {
   "cell_type": "markdown",
   "id": "9f54032e",
   "metadata": {},
   "source": [
    "Hello."
   ]
  },
  {
   "cell_type": "code",
   "execution_count": 1,
   "id": "2300c3c8",
   "metadata": {},
   "outputs": [
    {
     "name": "stdout",
     "output_type": "stream",
     "text": [
      "Hello, there!\n"
     ]
    },
    {
     "data": {
      "text/plain": [
       "undefined"
      ]
     },
     "execution_count": 1,
     "metadata": {},
     "output_type": "execute_result"
    }
   ],
   "source": [
    "console.log(\"Hello, there!\");"
   ]
  },
  {
   "cell_type": "markdown",
   "id": "32126afb",
   "metadata": {},
   "source": [
    "Printable ASCII characters."
   ]
  },
  {
   "cell_type": "code",
   "execution_count": 2,
   "id": "5ee91e1b",
   "metadata": {},
   "outputs": [
    {
     "name": "stdout",
     "output_type": "stream",
     "text": [
      " !\"#$%&'()*+,-./0123456789:;<=>?@ABCDEFGHIJKLMNOPQRSTUVWXYZ[\\]^_`abcdefghijklmnopqrstuvwxyz{|}~\n",
      " !\"#$%&'()*+,-./0123456789:;<=>?@ABCDEFGHIJKLMNOPQRSTUVWXYZ[\\]^_`abcdefghijklmnopqrstuvwxyz{|}~\n"
     ]
    },
    {
     "data": {
      "text/plain": [
       "undefined"
      ]
     },
     "execution_count": 2,
     "metadata": {},
     "output_type": "execute_result"
    }
   ],
   "source": [
    "// Functional syntax.\n",
    "console.log(\n",
    "  Array\n",
    "    .from({length: (0x7f - 0x20)}, (_v, k): String => String.fromCharCode(k + 0x20))\n",
    "    .join('')\n",
    ");\n",
    "\n",
    "// Classic C-style syntax.\n",
    "let ascii = [];\n",
    "for (let i = 0x20; i <= 0x7e; ++i) {\n",
    "  ascii.push(String.fromCharCode(i));\n",
    "}\n",
    "console.log(ascii.join(''));"
   ]
  }
 ],
 "metadata": {
  "kernelspec": {
   "display_name": "Typescript 4.9",
   "language": "typescript",
   "name": "typescript"
  },
  "language_info": {
   "file_extension": ".ts",
   "mimetype": "application/x-typescript",
   "name": "typescript",
   "version": "4.9.5"
  }
 },
 "nbformat": 4,
 "nbformat_minor": 5
}
