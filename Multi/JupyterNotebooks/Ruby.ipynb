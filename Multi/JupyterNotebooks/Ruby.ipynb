{
 "cells": [
  {
   "cell_type": "markdown",
   "id": "de2fc290",
   "metadata": {},
   "source": [
    "# Ruby <img src=\"Icons/ruby.svg\" width=\"40\" height=\"40\"/>"
   ]
  },
  {
   "cell_type": "markdown",
   "id": "ff70c9a0",
   "metadata": {},
   "source": [
    "Hello."
   ]
  },
  {
   "cell_type": "code",
   "execution_count": 1,
   "id": "5eeb9f51",
   "metadata": {},
   "outputs": [
    {
     "name": "stdout",
     "output_type": "stream",
     "text": [
      "Hello, there!\n"
     ]
    }
   ],
   "source": [
    "puts \"Hello, there!\""
   ]
  },
  {
   "cell_type": "markdown",
   "id": "a1e59e69",
   "metadata": {},
   "source": [
    "Printable ASCII characters."
   ]
  },
  {
   "cell_type": "code",
   "execution_count": null,
   "id": "ce1c36d8",
   "metadata": {},
   "outputs": [
    {
     "name": "stdout",
     "output_type": "stream",
     "text": [
      " !\"#$%&'()*+,-./0123456789:;<=>?@ABCDEFGHIJKLMNOPQRSTUVWXYZ[\\]^_`abcdefghijklmnopqrstuvwxyz{|}~\n",
      " !\"#$%&'()*+,-./0123456789:;<=>?@ABCDEFGHIJKLMNOPQRSTUVWXYZ[\\]^_`abcdefghijklmnopqrstuvwxyz{|}~\n",
      " !\"#$%&'()*+,-./0123456789:;<=>?@ABCDEFGHIJKLMNOPQRSTUVWXYZ[\\]^_`abcdefghijklmnopqrstuvwxyz{|}~\n"
     ]
    }
   ],
   "source": [
    "puts (0x20 .. 0x7e).map(&:chr).join\n",
    "puts (0x20 .. 0x7e).map{ |i| i.chr }.join\n",
    "puts (0x20 .. 0x7e).map(&lambda { |i| i.chr }).join"
   ]
  }
 ],
 "metadata": {
  "kernelspec": {
   "display_name": "Ruby 3 (iruby kernel)",
   "language": "ruby",
   "name": "ruby3"
  },
  "language_info": {
   "file_extension": ".rb",
   "mimetype": "application/x-ruby",
   "name": "ruby",
   "version": "3.2.3"
  }
 },
 "nbformat": 4,
 "nbformat_minor": 5
}
