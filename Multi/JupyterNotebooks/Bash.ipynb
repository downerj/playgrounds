{
 "cells": [
  {
   "cell_type": "markdown",
   "id": "9f205f52",
   "metadata": {},
   "source": [
    "# Bash <img src=\"Icons/shell.svg\" width=\"40\" height=\"40\"/>"
   ]
  },
  {
   "cell_type": "markdown",
   "id": "89da93fb",
   "metadata": {},
   "source": [
    "Hello."
   ]
  },
  {
   "cell_type": "code",
   "execution_count": 1,
   "id": "c8ebd09f",
   "metadata": {
    "vscode": {
     "languageId": "shellscript"
    }
   },
   "outputs": [
    {
     "name": "stdout",
     "output_type": "stream",
     "text": [
      "Hello, there!\n"
     ]
    }
   ],
   "source": [
    "echo \"Hello, there!\""
   ]
  },
  {
   "cell_type": "markdown",
   "id": "28ae5e65",
   "metadata": {},
   "source": [
    "Printable ASCII characters."
   ]
  },
  {
   "cell_type": "code",
   "execution_count": 2,
   "id": "3cecb38e",
   "metadata": {
    "vscode": {
     "languageId": "shellscript"
    }
   },
   "outputs": [
    {
     "name": "stdout",
     "output_type": "stream",
     "text": [
      " !\"#$%&'()*+,-./0123456789:;<=>?@ABCDEFGHIJKLMNOPQRSTUVWXYZ[\\]^_`abcdefghijklmnopqrstuvwxyz{|}~\n",
      "\n"
     ]
    }
   ],
   "source": [
    "for f in $(seq $((0x20)) $((0x7e)))\n",
    "do\n",
    "  set $(printf \"%x\" $f)\n",
    "  printf \"\\x$1\"\n",
    "done\n",
    "printf \"\\n\""
   ]
  }
 ],
 "metadata": {
  "kernelspec": {
   "display_name": "Bash",
   "language": "bash",
   "name": "bash"
  },
  "language_info": {
   "codemirror_mode": "shell",
   "file_extension": ".sh",
   "mimetype": "text/x-sh",
   "name": "bash"
  }
 },
 "nbformat": 4,
 "nbformat_minor": 5
}
