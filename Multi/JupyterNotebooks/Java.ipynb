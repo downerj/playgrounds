{
 "cells": [
  {
   "cell_type": "markdown",
   "id": "cd708b9d",
   "metadata": {},
   "source": [
    "# Java <img src=\"Icons/java.svg\" width=\"40\" height=\"40\"/>"
   ]
  },
  {
   "cell_type": "markdown",
   "id": "83b83c5f",
   "metadata": {},
   "source": [
    "Imports."
   ]
  },
  {
   "cell_type": "code",
   "execution_count": 1,
   "id": "705fa381",
   "metadata": {
    "vscode": {
     "languageId": "java"
    }
   },
   "outputs": [],
   "source": [
    "import java.util.stream.Collectors;\n",
    "import java.util.stream.IntStream;"
   ]
  },
  {
   "cell_type": "markdown",
   "id": "d8d0c531",
   "metadata": {},
   "source": [
    "Hello."
   ]
  },
  {
   "cell_type": "code",
   "execution_count": 2,
   "id": "9c66469a",
   "metadata": {
    "vscode": {
     "languageId": "java"
    }
   },
   "outputs": [
    {
     "name": "stdout",
     "output_type": "stream",
     "text": [
      "Hello, there!\n"
     ]
    }
   ],
   "source": [
    "System.out.println(\"Hello, there!\");"
   ]
  },
  {
   "cell_type": "markdown",
   "id": "44008a20",
   "metadata": {},
   "source": [
    "Printable ASCII characters."
   ]
  },
  {
   "cell_type": "code",
   "execution_count": 3,
   "id": "04026c82",
   "metadata": {
    "vscode": {
     "languageId": "java"
    }
   },
   "outputs": [
    {
     "name": "stdout",
     "output_type": "stream",
     "text": [
      " !\"#$%&'()*+,-./0123456789:;<=>?@ABCDEFGHIJKLMNOPQRSTUVWXYZ[\\]^_`abcdefghijklmnopqrstuvwxyz{|}~\n",
      " !\"#$%&'()*+,-./0123456789:;<=>?@ABCDEFGHIJKLMNOPQRSTUVWXYZ[\\]^_`abcdefghijklmnopqrstuvwxyz{|}~\n"
     ]
    }
   ],
   "source": [
    "// Stream syntax.\n",
    "System.out.println(\n",
    "  IntStream\n",
    "    .rangeClosed(0x20, 0x7e)\n",
    "    .mapToObj(i -> String.valueOf((char)i))\n",
    "    .collect(Collectors.joining())\n",
    ");\n",
    "\n",
    "// Classic C-style syntax.\n",
    "for (var i = 0x20; i <= 0x7e; ++i) {\n",
    "  System.out.print((char)i);\n",
    "}\n",
    "System.out.println();"
   ]
  }
 ],
 "metadata": {
  "kernelspec": {
   "display_name": "Java",
   "language": "java",
   "name": "java"
  },
  "language_info": {
   "codemirror_mode": "java",
   "file_extension": ".jshell",
   "mimetype": "text/x-java-source",
   "name": "Java",
   "pygments_lexer": "java",
   "version": "21.0.7+6-Ubuntu-0ubuntu124.04"
  }
 },
 "nbformat": 4,
 "nbformat_minor": 5
}
